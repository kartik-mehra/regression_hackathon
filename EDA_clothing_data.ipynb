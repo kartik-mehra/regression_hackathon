{
  "cells": [
    {
      "cell_type": "markdown",
      "metadata": {
        "id": "view-in-github",
        "colab_type": "text"
      },
      "source": [
        "<a href=\"https://colab.research.google.com/github/kartik-mehra/regression_hackathon/blob/main/EDA_clothing_data.ipynb\" target=\"_parent\"><img src=\"https://colab.research.google.com/assets/colab-badge.svg\" alt=\"Open In Colab\"/></a>"
      ]
    },
    {
      "cell_type": "code",
      "execution_count": null,
      "metadata": {
        "id": "sEbb8jXk_awz",
        "outputId": "82bee168-d88f-4486-d02c-61a9e5dfd2d1"
      },
      "outputs": [
        {
          "ename": "KeyboardInterrupt",
          "evalue": "",
          "output_type": "error",
          "traceback": [
            "\u001b[1;31m---------------------------------------------------------------------------\u001b[0m",
            "\u001b[1;31mKeyboardInterrupt\u001b[0m                         Traceback (most recent call last)",
            "Cell \u001b[1;32mIn[4], line 3\u001b[0m\n\u001b[0;32m      1\u001b[0m \u001b[38;5;28;01mimport\u001b[39;00m \u001b[38;5;21;01mpandas\u001b[39;00m \u001b[38;5;28;01mas\u001b[39;00m \u001b[38;5;21;01mpd\u001b[39;00m\n\u001b[0;32m      2\u001b[0m \u001b[38;5;28;01mimport\u001b[39;00m \u001b[38;5;21;01mnumpy\u001b[39;00m \u001b[38;5;28;01mas\u001b[39;00m \u001b[38;5;21;01mnp\u001b[39;00m\n\u001b[1;32m----> 3\u001b[0m \u001b[38;5;28;01mimport\u001b[39;00m \u001b[38;5;21;01mseaborn\u001b[39;00m \u001b[38;5;28;01mas\u001b[39;00m \u001b[38;5;21;01msns\u001b[39;00m\n\u001b[0;32m      4\u001b[0m \u001b[38;5;28;01mimport\u001b[39;00m \u001b[38;5;21;01mmatplotlib\u001b[39;00m\u001b[38;5;21;01m.\u001b[39;00m\u001b[38;5;21;01mpyplot\u001b[39;00m \u001b[38;5;28;01mas\u001b[39;00m \u001b[38;5;21;01mplt\u001b[39;00m\n",
            "File \u001b[1;32mc:\\Users\\Acer\\.conda\\envs\\tf\\lib\\site-packages\\seaborn\\__init__.py:2\u001b[0m\n\u001b[0;32m      1\u001b[0m \u001b[38;5;66;03m# Import seaborn objects\u001b[39;00m\n\u001b[1;32m----> 2\u001b[0m \u001b[38;5;28;01mfrom\u001b[39;00m \u001b[38;5;21;01m.\u001b[39;00m\u001b[38;5;21;01mrcmod\u001b[39;00m \u001b[38;5;28;01mimport\u001b[39;00m \u001b[38;5;241m*\u001b[39m  \u001b[38;5;66;03m# noqa: F401,F403\u001b[39;00m\n\u001b[0;32m      3\u001b[0m \u001b[38;5;28;01mfrom\u001b[39;00m \u001b[38;5;21;01m.\u001b[39;00m\u001b[38;5;21;01mutils\u001b[39;00m \u001b[38;5;28;01mimport\u001b[39;00m \u001b[38;5;241m*\u001b[39m  \u001b[38;5;66;03m# noqa: F401,F403\u001b[39;00m\n\u001b[0;32m      4\u001b[0m \u001b[38;5;28;01mfrom\u001b[39;00m \u001b[38;5;21;01m.\u001b[39;00m\u001b[38;5;21;01mpalettes\u001b[39;00m \u001b[38;5;28;01mimport\u001b[39;00m \u001b[38;5;241m*\u001b[39m  \u001b[38;5;66;03m# noqa: F401,F403\u001b[39;00m\n",
            "File \u001b[1;32mc:\\Users\\Acer\\.conda\\envs\\tf\\lib\\site-packages\\seaborn\\rcmod.py:3\u001b[0m\n\u001b[0;32m      1\u001b[0m \u001b[38;5;124;03m\"\"\"Control plot style and scaling using the matplotlib rcParams interface.\"\"\"\u001b[39;00m\n\u001b[0;32m      2\u001b[0m \u001b[38;5;28;01mimport\u001b[39;00m \u001b[38;5;21;01mfunctools\u001b[39;00m\n\u001b[1;32m----> 3\u001b[0m \u001b[38;5;28;01mimport\u001b[39;00m \u001b[38;5;21;01mmatplotlib\u001b[39;00m \u001b[38;5;28;01mas\u001b[39;00m \u001b[38;5;21;01mmpl\u001b[39;00m\n\u001b[0;32m      4\u001b[0m \u001b[38;5;28;01mfrom\u001b[39;00m \u001b[38;5;21;01mcycler\u001b[39;00m \u001b[38;5;28;01mimport\u001b[39;00m cycler\n\u001b[0;32m      5\u001b[0m \u001b[38;5;28;01mfrom\u001b[39;00m \u001b[38;5;21;01m.\u001b[39;00m \u001b[38;5;28;01mimport\u001b[39;00m palettes\n",
            "File \u001b[1;32mc:\\Users\\Acer\\.conda\\envs\\tf\\lib\\site-packages\\matplotlib\\__init__.py:187\u001b[0m\n\u001b[0;32m    183\u001b[0m \u001b[38;5;28;01mfrom\u001b[39;00m \u001b[38;5;21;01mpackaging\u001b[39;00m\u001b[38;5;21;01m.\u001b[39;00m\u001b[38;5;21;01mversion\u001b[39;00m \u001b[38;5;28;01mimport\u001b[39;00m parse \u001b[38;5;28;01mas\u001b[39;00m parse_version\n\u001b[0;32m    185\u001b[0m \u001b[38;5;66;03m# cbook must import matplotlib only within function\u001b[39;00m\n\u001b[0;32m    186\u001b[0m \u001b[38;5;66;03m# definitions, so it is safe to import from it here.\u001b[39;00m\n\u001b[1;32m--> 187\u001b[0m \u001b[38;5;28;01mfrom\u001b[39;00m \u001b[38;5;21;01m.\u001b[39;00m \u001b[38;5;28;01mimport\u001b[39;00m _api, _version, cbook, _docstring, rcsetup\n\u001b[0;32m    188\u001b[0m \u001b[38;5;28;01mfrom\u001b[39;00m \u001b[38;5;21;01mmatplotlib\u001b[39;00m\u001b[38;5;21;01m.\u001b[39;00m\u001b[38;5;21;01mcbook\u001b[39;00m \u001b[38;5;28;01mimport\u001b[39;00m sanitize_sequence\n\u001b[0;32m    189\u001b[0m \u001b[38;5;28;01mfrom\u001b[39;00m \u001b[38;5;21;01mmatplotlib\u001b[39;00m\u001b[38;5;21;01m.\u001b[39;00m\u001b[38;5;21;01m_api\u001b[39;00m \u001b[38;5;28;01mimport\u001b[39;00m MatplotlibDeprecationWarning\n",
            "File \u001b[1;32mc:\\Users\\Acer\\.conda\\envs\\tf\\lib\\site-packages\\matplotlib\\cbook.py:32\u001b[0m\n\u001b[0;32m     29\u001b[0m     \u001b[38;5;28;01mfrom\u001b[39;00m \u001b[38;5;21;01mnumpy\u001b[39;00m \u001b[38;5;28;01mimport\u001b[39;00m VisibleDeprecationWarning\n\u001b[0;32m     31\u001b[0m \u001b[38;5;28;01mimport\u001b[39;00m \u001b[38;5;21;01mmatplotlib\u001b[39;00m\n\u001b[1;32m---> 32\u001b[0m \u001b[38;5;28;01mfrom\u001b[39;00m \u001b[38;5;21;01mmatplotlib\u001b[39;00m \u001b[38;5;28;01mimport\u001b[39;00m _api, _c_internal_utils\n\u001b[0;32m     35\u001b[0m \u001b[38;5;28;01mdef\u001b[39;00m \u001b[38;5;21m_get_running_interactive_framework\u001b[39m():\n\u001b[0;32m     36\u001b[0m \u001b[38;5;250m    \u001b[39m\u001b[38;5;124;03m\"\"\"\u001b[39;00m\n\u001b[0;32m     37\u001b[0m \u001b[38;5;124;03m    Return the interactive framework whose event loop is currently running, if\u001b[39;00m\n\u001b[0;32m     38\u001b[0m \u001b[38;5;124;03m    any, or \"headless\" if no event loop can be started, or None.\u001b[39;00m\n\u001b[1;32m   (...)\u001b[0m\n\u001b[0;32m     44\u001b[0m \u001b[38;5;124;03m        \"macosx\", \"headless\", ``None``.\u001b[39;00m\n\u001b[0;32m     45\u001b[0m \u001b[38;5;124;03m    \"\"\"\u001b[39;00m\n",
            "\u001b[1;31mKeyboardInterrupt\u001b[0m: "
          ]
        }
      ],
      "source": [
        "import pandas as pd\n",
        "import numpy as np\n",
        "import seaborn as sns\n",
        "import matplotlib.pyplot as plt"
      ]
    },
    {
      "cell_type": "markdown",
      "metadata": {
        "id": "6P_L3IAR_aw0"
      },
      "source": [
        "## Reading Amazon Clothing Data"
      ]
    },
    {
      "cell_type": "code",
      "execution_count": null,
      "metadata": {
        "id": "CJcJt-F__aw1"
      },
      "outputs": [],
      "source": [
        "chunks = pd.read_json('../meta_Clothing_Shoes_and_Jewelry/meta_Clothing_Shoes_and_Jewelry.json', lines=True, chunksize = 100000)"
      ]
    },
    {
      "cell_type": "markdown",
      "metadata": {
        "id": "DyoJb7xP_aw1"
      },
      "source": [
        "As dataset is huge, we will analyze the first chunk to determine the scope of data that we want to consider"
      ]
    },
    {
      "cell_type": "code",
      "execution_count": null,
      "metadata": {
        "id": "s7QziMrR_aw2"
      },
      "outputs": [],
      "source": [
        "first_chunk = next(chunks)"
      ]
    },
    {
      "cell_type": "code",
      "execution_count": null,
      "metadata": {
        "id": "z31l1ddN_aw2",
        "outputId": "5b8de8d2-5a6e-4045-e255-732b83c6be0f"
      },
      "outputs": [
        {
          "name": "stdout",
          "output_type": "stream",
          "text": [
            "<class 'pandas.core.frame.DataFrame'>\n",
            "RangeIndex: 100000 entries, 0 to 99999\n",
            "Data columns (total 19 columns):\n",
            " #   Column           Non-Null Count   Dtype \n",
            "---  ------           --------------   ----- \n",
            " 0   category         100000 non-null  object\n",
            " 1   description      87122 non-null   object\n",
            " 2   title            99999 non-null   object\n",
            " 3   brand            69531 non-null   object\n",
            " 4   feature          91218 non-null   object\n",
            " 5   rank             95827 non-null   object\n",
            " 6   date             90272 non-null   object\n",
            " 7   asin             100000 non-null  object\n",
            " 8   imageURL         66917 non-null   object\n",
            " 9   imageURLHighRes  66917 non-null   object\n",
            " 10  also_view        26006 non-null   object\n",
            " 11  price            29816 non-null   object\n",
            " 12  fit              12952 non-null   object\n",
            " 13  also_buy         14003 non-null   object\n",
            " 14  main_cat         11203 non-null   object\n",
            " 15  tech1            592 non-null     object\n",
            " 16  details          5787 non-null    object\n",
            " 17  similar_item     733 non-null     object\n",
            " 18  tech2            6 non-null       object\n",
            "dtypes: object(19)\n",
            "memory usage: 14.5+ MB\n"
          ]
        }
      ],
      "source": [
        "first_chunk.info()"
      ]
    },
    {
      "cell_type": "code",
      "execution_count": null,
      "metadata": {
        "id": "fF09QkMX_aw2"
      },
      "outputs": [],
      "source": [
        "# print(first_chunk['fit'].dropna().drop_duplicates().values[30])"
      ]
    },
    {
      "cell_type": "markdown",
      "metadata": {
        "id": "urtSKTdh_aw2"
      },
      "source": [
        "__Main cloumn to focus will be__:\n",
        "1. Category -  to select only clothing and apparels\n",
        "2. Title - Title of the product\n",
        "3. Brand - Can be used to fitler out highly popular brand\n",
        "4. Rank - Will be used to priorituze item\n",
        "5. asin - product id\n",
        "6. also_buy -  Will be used to create edges\n",
        "7. imageURLHighRes -  Image data\n",
        "8. price         \n",
        "9. Fit - contains reviews related to fits small too small, need to check if can be used  \n",
        "10. description       "
      ]
    },
    {
      "cell_type": "markdown",
      "metadata": {
        "id": "nvkTSom5_aw3"
      },
      "source": [
        "### Keeping ids with image data only\n"
      ]
    },
    {
      "cell_type": "code",
      "execution_count": null,
      "metadata": {
        "id": "fS45nXDk_aw3",
        "outputId": "4047abfc-2c3b-49a1-81a9-fb7cd56c94df"
      },
      "outputs": [
        {
          "data": {
            "text/plain": [
              "0                                                  NaN\n",
              "1    [https://images-na.ssl-images-amazon.com/image...\n",
              "2    [https://images-na.ssl-images-amazon.com/image...\n",
              "3    [https://images-na.ssl-images-amazon.com/image...\n",
              "4    [https://images-na.ssl-images-amazon.com/image...\n",
              "Name: imageURLHighRes, dtype: object"
            ]
          },
          "execution_count": 9,
          "metadata": {},
          "output_type": "execute_result"
        }
      ],
      "source": [
        "first_chunk['imageURLHighRes'].head()"
      ]
    },
    {
      "cell_type": "code",
      "execution_count": null,
      "metadata": {
        "id": "6GMxb5EO_aw3"
      },
      "outputs": [],
      "source": [
        "first_chunk = first_chunk[~(first_chunk['imageURLHighRes'].isna())]"
      ]
    },
    {
      "cell_type": "code",
      "execution_count": null,
      "metadata": {
        "id": "9rtwEb2A_aw3",
        "outputId": "59f4b6e4-a5f6-4db4-9f83-e14f0361aced"
      },
      "outputs": [
        {
          "data": {
            "text/plain": [
              "0"
            ]
          },
          "execution_count": 11,
          "metadata": {},
          "output_type": "execute_result"
        }
      ],
      "source": [
        "(first_chunk['imageURLHighRes'].str.len()==0).sum()"
      ]
    },
    {
      "cell_type": "markdown",
      "metadata": {
        "id": "6ViXvHuc_aw3"
      },
      "source": [
        "No empty list"
      ]
    },
    {
      "cell_type": "markdown",
      "metadata": {
        "id": "vlRhofpz_aw3"
      },
      "source": [
        "## Checking different Categoris available as this a mix data"
      ]
    },
    {
      "cell_type": "code",
      "execution_count": null,
      "metadata": {
        "id": "gYqjXI1t_aw4",
        "outputId": "3ab1022a-af0e-4d3d-87f5-c359ae4faa5c"
      },
      "outputs": [
        {
          "data": {
            "text/html": [
              "<div>\n",
              "<style scoped>\n",
              "    .dataframe tbody tr th:only-of-type {\n",
              "        vertical-align: middle;\n",
              "    }\n",
              "\n",
              "    .dataframe tbody tr th {\n",
              "        vertical-align: top;\n",
              "    }\n",
              "\n",
              "    .dataframe thead th {\n",
              "        text-align: right;\n",
              "    }\n",
              "</style>\n",
              "<table border=\"1\" class=\"dataframe\">\n",
              "  <thead>\n",
              "    <tr style=\"text-align: right;\">\n",
              "      <th></th>\n",
              "      <th>0</th>\n",
              "      <th>1</th>\n",
              "      <th>2</th>\n",
              "    </tr>\n",
              "  </thead>\n",
              "  <tbody>\n",
              "    <tr>\n",
              "      <th>0</th>\n",
              "      <td>Luggage &amp; Travel Gear</td>\n",
              "      <td>Backpacks</td>\n",
              "      <td>Casual Daypacks</td>\n",
              "    </tr>\n",
              "    <tr>\n",
              "      <th>1</th>\n",
              "      <td>Luggage &amp; Travel Gear</td>\n",
              "      <td>Backpacks</td>\n",
              "      <td>Kids' Backpacks</td>\n",
              "    </tr>\n",
              "    <tr>\n",
              "      <th>2</th>\n",
              "      <td>Luggage &amp; Travel Gear</td>\n",
              "      <td>Backpacks</td>\n",
              "      <td>Kids' Backpacks</td>\n",
              "    </tr>\n",
              "    <tr>\n",
              "      <th>3</th>\n",
              "      <td>Novelty &amp; More</td>\n",
              "      <td>Clothing</td>\n",
              "      <td>Novelty</td>\n",
              "    </tr>\n",
              "    <tr>\n",
              "      <th>4</th>\n",
              "      <td>Women</td>\n",
              "      <td>Clothing</td>\n",
              "      <td>Swimsuits &amp; Cover Ups</td>\n",
              "    </tr>\n",
              "    <tr>\n",
              "      <th>...</th>\n",
              "      <td>...</td>\n",
              "      <td>...</td>\n",
              "      <td>...</td>\n",
              "    </tr>\n",
              "    <tr>\n",
              "      <th>66912</th>\n",
              "      <td>Men</td>\n",
              "      <td>Accessories</td>\n",
              "      <td>Hats &amp; Caps</td>\n",
              "    </tr>\n",
              "    <tr>\n",
              "      <th>66913</th>\n",
              "      <td>Men</td>\n",
              "      <td>Accessories</td>\n",
              "      <td>Hats &amp; Caps</td>\n",
              "    </tr>\n",
              "    <tr>\n",
              "      <th>66914</th>\n",
              "      <td>Women</td>\n",
              "      <td>Watches</td>\n",
              "      <td>Wrist Watches</td>\n",
              "    </tr>\n",
              "    <tr>\n",
              "      <th>66915</th>\n",
              "      <td>Women</td>\n",
              "      <td>Accessories</td>\n",
              "      <td>Hats &amp; Caps</td>\n",
              "    </tr>\n",
              "    <tr>\n",
              "      <th>66916</th>\n",
              "      <td>Men</td>\n",
              "      <td>Accessories</td>\n",
              "      <td>Hats &amp; Caps</td>\n",
              "    </tr>\n",
              "  </tbody>\n",
              "</table>\n",
              "<p>66917 rows × 3 columns</p>\n",
              "</div>"
            ],
            "text/plain": [
              "                           0            1                      2\n",
              "0      Luggage & Travel Gear    Backpacks        Casual Daypacks\n",
              "1      Luggage & Travel Gear    Backpacks        Kids' Backpacks\n",
              "2      Luggage & Travel Gear    Backpacks        Kids' Backpacks\n",
              "3             Novelty & More     Clothing                Novelty\n",
              "4                      Women     Clothing  Swimsuits & Cover Ups\n",
              "...                      ...          ...                    ...\n",
              "66912                    Men  Accessories            Hats & Caps\n",
              "66913                    Men  Accessories            Hats & Caps\n",
              "66914                  Women      Watches          Wrist Watches\n",
              "66915                  Women  Accessories            Hats & Caps\n",
              "66916                    Men  Accessories            Hats & Caps\n",
              "\n",
              "[66917 rows x 3 columns]"
            ]
          },
          "execution_count": 12,
          "metadata": {},
          "output_type": "execute_result"
        }
      ],
      "source": [
        "categories_split = pd.DataFrame(first_chunk['category'].str[1:4].to_list())\n",
        "categories_split"
      ]
    },
    {
      "cell_type": "code",
      "execution_count": null,
      "metadata": {
        "id": "DygoaDjz_aw4"
      },
      "outputs": [],
      "source": [
        "import seaborn as sns\n",
        "import matplotlib.pyplot as plt"
      ]
    },
    {
      "cell_type": "code",
      "execution_count": null,
      "metadata": {
        "id": "NRk7OQel_aw4",
        "outputId": "5e23ac34-f55d-40e0-8635-f45476273a35"
      },
      "outputs": [
        {
          "data": {
            "image/png": "[encoded data removed]",
            "text/plain": [
              "<Figure size 640x480 with 1 Axes>"
            ]
          },
          "metadata": {},
          "output_type": "display_data"
        }
      ],
      "source": [
        "temp = categories_split[1].value_counts().sort_values(ascending=False).head(20).to_frame().reset_index()\n",
        "\n",
        "sns.barplot(x=temp[1],y=temp['count'])\n",
        "plt.xticks(rotation=90)\n",
        "plt.show()"
      ]
    },
    {
      "cell_type": "code",
      "execution_count": null,
      "metadata": {
        "id": "_Br7ORB9_aw4",
        "outputId": "48d05156-3deb-4baa-c9a5-046bb3d9249c"
      },
      "outputs": [
        {
          "data": {
            "image/png": "[encoded data removed]",
            "text/plain": [
              "<Figure size 640x480 with 1 Axes>"
            ]
          },
          "metadata": {},
          "output_type": "display_data"
        }
      ],
      "source": [
        "temp = categories_split[0].value_counts().sort_values(ascending=False).head(20).to_frame().reset_index()\n",
        "\n",
        "sns.barplot(x=temp[0],y=temp['count'])\n",
        "plt.xticks(rotation=90)\n",
        "plt.show()"
      ]
    },
    {
      "cell_type": "markdown",
      "metadata": {
        "id": "yWFCHjnI_aw4"
      },
      "source": [
        "__For this research we will only consider women__"
      ]
    },
    {
      "cell_type": "code",
      "execution_count": null,
      "metadata": {
        "id": "WMYV-W3e_aw4"
      },
      "outputs": [],
      "source": [
        "first_chunk = first_chunk[first_chunk['category'].str[1] == 'Women']"
      ]
    },
    {
      "cell_type": "code",
      "execution_count": null,
      "metadata": {
        "id": "hhpNvWM8_aw5",
        "outputId": "486a0c0b-7d48-4b8e-cd78-e6013d91bf1f"
      },
      "outputs": [
        {
          "data": {
            "image/png": "[encoded data removed]",
            "text/plain": [
              "<Figure size 640x480 with 1 Axes>"
            ]
          },
          "metadata": {},
          "output_type": "display_data"
        }
      ],
      "source": [
        "temp = first_chunk.category.str[2].value_counts().sort_values(ascending=False).head(20).to_frame().reset_index()\n",
        "\n",
        "sns.barplot(x=temp['category'],y=temp['count'])\n",
        "plt.xticks(rotation=90)\n",
        "plt.show()"
      ]
    },
    {
      "cell_type": "markdown",
      "metadata": {
        "id": "WzvwXvAK_aw5"
      },
      "source": [
        "__And only try recommendation on clothing__"
      ]
    },
    {
      "cell_type": "markdown",
      "metadata": {
        "id": "u33PJOM8_aw5"
      },
      "source": [
        "## Filter dataset for recommendation engine"
      ]
    },
    {
      "cell_type": "code",
      "execution_count": null,
      "metadata": {
        "id": "V-t7wzB2_aw5"
      },
      "outputs": [],
      "source": [
        "import pandas as pd"
      ]
    },
    {
      "cell_type": "code",
      "execution_count": null,
      "metadata": {
        "id": "bYivKQ-H_aw5"
      },
      "outputs": [],
      "source": [
        "chunks = pd.read_json('../meta_Clothing_Shoes_and_Jewelry/meta_Clothing_Shoes_and_Jewelry.json', lines=True, chunksize = 100000)"
      ]
    },
    {
      "cell_type": "code",
      "execution_count": null,
      "metadata": {
        "id": "SvpByhK0_aw5",
        "outputId": "1b62999a-a5b7-4657-c461-5ba4d315cc8c"
      },
      "outputs": [
        {
          "ename": "KeyboardInterrupt",
          "evalue": "",
          "output_type": "error",
          "traceback": [
            "\u001b[1;31m---------------------------------------------------------------------------\u001b[0m",
            "\u001b[1;31mKeyboardInterrupt\u001b[0m                         Traceback (most recent call last)",
            "Cell \u001b[1;32mIn[3], line 2\u001b[0m\n\u001b[0;32m      1\u001b[0m df \u001b[38;5;241m=\u001b[39m pd\u001b[38;5;241m.\u001b[39mDataFrame()\n\u001b[1;32m----> 2\u001b[0m \u001b[38;5;28;01mfor\u001b[39;00m first_chunk \u001b[38;5;129;01min\u001b[39;00m chunks:\n\u001b[0;32m      3\u001b[0m     first_chunk[\u001b[38;5;124m'\u001b[39m\u001b[38;5;124msub_cat\u001b[39m\u001b[38;5;124m'\u001b[39m] \u001b[38;5;241m=\u001b[39m first_chunk\u001b[38;5;241m.\u001b[39mcategory\u001b[38;5;241m.\u001b[39mstr[\u001b[38;5;241m1\u001b[39m:\u001b[38;5;241m3\u001b[39m]\n\u001b[0;32m      4\u001b[0m     first_chunk \u001b[38;5;241m=\u001b[39m first_chunk[(first_chunk[\u001b[38;5;124m'\u001b[39m\u001b[38;5;124msub_cat\u001b[39m\u001b[38;5;124m'\u001b[39m]\u001b[38;5;241m.\u001b[39mstr[\u001b[38;5;241m0\u001b[39m]\u001b[38;5;241m.\u001b[39misin([\u001b[38;5;124m'\u001b[39m\u001b[38;5;124mWomen\u001b[39m\u001b[38;5;124m'\u001b[39m,\u001b[38;5;124m'\u001b[39m\u001b[38;5;124mMen\u001b[39m\u001b[38;5;124m'\u001b[39m])) \u001b[38;5;241m&\u001b[39m (first_chunk[\u001b[38;5;124m'\u001b[39m\u001b[38;5;124msub_cat\u001b[39m\u001b[38;5;124m'\u001b[39m]\u001b[38;5;241m.\u001b[39mstr[\u001b[38;5;241m1\u001b[39m]\u001b[38;5;241m.\u001b[39misin([\u001b[38;5;124m'\u001b[39m\u001b[38;5;124mClothing\u001b[39m\u001b[38;5;124m'\u001b[39m]))]\n",
            "File \u001b[1;32mc:\\Users\\Acer\\.conda\\envs\\tf\\lib\\site-packages\\pandas\\io\\json\\_json.py:1090\u001b[0m, in \u001b[0;36mJsonReader.__next__\u001b[1;34m(self)\u001b[0m\n\u001b[0;32m   1087\u001b[0m     \u001b[38;5;28mself\u001b[39m\u001b[38;5;241m.\u001b[39mclose()\n\u001b[0;32m   1088\u001b[0m     \u001b[38;5;28;01mraise\u001b[39;00m \u001b[38;5;167;01mStopIteration\u001b[39;00m\n\u001b[1;32m-> 1090\u001b[0m lines \u001b[38;5;241m=\u001b[39m \u001b[38;5;28;43mlist\u001b[39;49m\u001b[43m(\u001b[49m\u001b[43mislice\u001b[49m\u001b[43m(\u001b[49m\u001b[38;5;28;43mself\u001b[39;49m\u001b[38;5;241;43m.\u001b[39;49m\u001b[43mdata\u001b[49m\u001b[43m,\u001b[49m\u001b[43m \u001b[49m\u001b[38;5;28;43mself\u001b[39;49m\u001b[38;5;241;43m.\u001b[39;49m\u001b[43mchunksize\u001b[49m\u001b[43m)\u001b[49m\u001b[43m)\u001b[49m\n\u001b[0;32m   1091\u001b[0m \u001b[38;5;28;01mif\u001b[39;00m \u001b[38;5;129;01mnot\u001b[39;00m lines:\n\u001b[0;32m   1092\u001b[0m     \u001b[38;5;28mself\u001b[39m\u001b[38;5;241m.\u001b[39mclose()\n",
            "File \u001b[1;32mc:\\Users\\Acer\\.conda\\envs\\tf\\lib\\codecs.py:319\u001b[0m, in \u001b[0;36mBufferedIncrementalDecoder.decode\u001b[1;34m(self, input, final)\u001b[0m\n\u001b[0;32m    314\u001b[0m \u001b[38;5;28;01mdef\u001b[39;00m \u001b[38;5;21m_buffer_decode\u001b[39m(\u001b[38;5;28mself\u001b[39m, \u001b[38;5;28minput\u001b[39m, errors, final):\n\u001b[0;32m    315\u001b[0m     \u001b[38;5;66;03m# Overwrite this method in subclasses: It must decode input\u001b[39;00m\n\u001b[0;32m    316\u001b[0m     \u001b[38;5;66;03m# and return an (output, length consumed) tuple\u001b[39;00m\n\u001b[0;32m    317\u001b[0m     \u001b[38;5;28;01mraise\u001b[39;00m \u001b[38;5;167;01mNotImplementedError\u001b[39;00m\n\u001b[1;32m--> 319\u001b[0m \u001b[38;5;28;01mdef\u001b[39;00m \u001b[38;5;21mdecode\u001b[39m(\u001b[38;5;28mself\u001b[39m, \u001b[38;5;28minput\u001b[39m, final\u001b[38;5;241m=\u001b[39m\u001b[38;5;28;01mFalse\u001b[39;00m):\n\u001b[0;32m    320\u001b[0m     \u001b[38;5;66;03m# decode input (taking the buffer into account)\u001b[39;00m\n\u001b[0;32m    321\u001b[0m     data \u001b[38;5;241m=\u001b[39m \u001b[38;5;28mself\u001b[39m\u001b[38;5;241m.\u001b[39mbuffer \u001b[38;5;241m+\u001b[39m \u001b[38;5;28minput\u001b[39m\n\u001b[0;32m    322\u001b[0m     (result, consumed) \u001b[38;5;241m=\u001b[39m \u001b[38;5;28mself\u001b[39m\u001b[38;5;241m.\u001b[39m_buffer_decode(data, \u001b[38;5;28mself\u001b[39m\u001b[38;5;241m.\u001b[39merrors, final)\n",
            "\u001b[1;31mKeyboardInterrupt\u001b[0m: "
          ]
        }
      ],
      "source": [
        "df = pd.DataFrame()\n",
        "for first_chunk in chunks:\n",
        "    first_chunk['sub_cat'] = first_chunk.category.str[1:3]\n",
        "    first_chunk = first_chunk[(first_chunk['sub_cat'].str[0].isin(['Women','Men'])) & (first_chunk['sub_cat'].str[1].isin(['Clothing']))]\n",
        "    first_chunk = first_chunk[~(first_chunk['imageURLHighRes'].isna())]\n",
        "    df = pd.concat([df,first_chunk])"
      ]
    },
    {
      "cell_type": "code",
      "execution_count": null,
      "metadata": {
        "id": "1G4p-OoI_aw6"
      },
      "outputs": [],
      "source": [
        "# df = pd.DataFrame()\n",
        "# for first_chunk in chunks:\n",
        "#     first_chunk['sub_cat'] = first_chunk.category.str[1:3]\n",
        "#     first_chunk = first_chunk[(first_chunk['sub_cat'].str[0].isin(['Women'])) & (first_chunk['sub_cat'].str[1].isin(['Clothing']))]\n",
        "#     first_chunk = first_chunk[~(first_chunk['imageURLHighRes'].isna())]\n",
        "#     df = pd.concat([df,first_chunk])"
      ]
    },
    {
      "cell_type": "code",
      "execution_count": null,
      "metadata": {
        "id": "b9QXt-mW_aw6"
      },
      "outputs": [],
      "source": [
        "df['rank'] = df['rank'].astype(str)\n",
        "df.to_parquet('../processed/meta_Clothing_Shoes_and_Jewelry_2018_women_men_clothing_only.parquet')"
      ]
    },
    {
      "cell_type": "code",
      "execution_count": null,
      "metadata": {
        "id": "JPgb94-E_aw6",
        "outputId": "ea4eeed5-171d-4cc5-e7ab-7160718a3c81"
      },
      "outputs": [
        {
          "data": {
            "text/plain": [
              "328180"
            ]
          },
          "execution_count": 7,
          "metadata": {},
          "output_type": "execute_result"
        }
      ],
      "source": [
        "(df.category.str[1]=='Women').sum()"
      ]
    },
    {
      "cell_type": "code",
      "execution_count": null,
      "metadata": {
        "id": "VeRGA-SJ_aw6",
        "outputId": "d8273756-a8a3-454e-ec81-84817d798756"
      },
      "outputs": [
        {
          "data": {
            "text/plain": [
              "(328180, 20)"
            ]
          },
          "execution_count": 48,
          "metadata": {},
          "output_type": "execute_result"
        }
      ],
      "source": [
        "df.shape"
      ]
    },
    {
      "cell_type": "code",
      "execution_count": null,
      "metadata": {
        "id": "duaT1vy4_aw6"
      },
      "outputs": [],
      "source": [
        "df = pd.read_parquet('../processed/meta_Clothing_Shoes_and_Jewelry_2018_women_men_clothing_only.parquet')"
      ]
    },
    {
      "cell_type": "markdown",
      "metadata": {
        "id": "SOlkIrz9_aw6"
      },
      "source": [
        "## EDA on Women Clothing"
      ]
    },
    {
      "cell_type": "code",
      "execution_count": null,
      "metadata": {
        "id": "3BAWiDvF_aw7",
        "outputId": "ef874267-e99e-46bd-bcdb-4894fb9f1ea1"
      },
      "outputs": [
        {
          "data": {
            "image/png": "[encoded data removed]",
            "text/plain": [
              "<Figure size 640x480 with 1 Axes>"
            ]
          },
          "metadata": {},
          "output_type": "display_data"
        }
      ],
      "source": [
        "temp = df.category.str[3].value_counts().sort_values(ascending=False).head(20).to_frame().reset_index()\n",
        "\n",
        "sns.barplot(x=temp['category'],y=temp['count'])\n",
        "plt.xticks(rotation=90)\n",
        "plt.show()"
      ]
    },
    {
      "cell_type": "code",
      "execution_count": null,
      "metadata": {
        "id": "tq5P-Rj7_aw7",
        "outputId": "4c621e43-9dd2-4860-e6b5-294f1ee88c53"
      },
      "outputs": [
        {
          "data": {
            "text/plain": [
              "category\n",
              "Dresses                     80090\n",
              "Tops, Tees & Blouses        62257\n",
              "Swimsuits & Cover Ups       30053\n",
              "Lingerie, Sleep & Lounge    25258\n",
              "Coats, Jackets & Vests      19984\n",
              "Active                      17275\n",
              "Sweaters                    16667\n",
              "Jeans                       13376\n",
              "Skirts                      10436\n",
              "Pants                       10028\n",
              "Name: count, dtype: int64"
            ]
          },
          "execution_count": 66,
          "metadata": {},
          "output_type": "execute_result"
        }
      ],
      "source": [
        "df.category.str[3].value_counts().head(10)"
      ]
    },
    {
      "cell_type": "code",
      "execution_count": null,
      "metadata": {
        "id": "eWg-ZnCO_aw7"
      },
      "outputs": [],
      "source": [
        "df['clothing_type'] = df.category.str[3]"
      ]
    },
    {
      "cell_type": "code",
      "execution_count": null,
      "metadata": {
        "id": "IL0Jahni_aw7",
        "outputId": "89c70523-64fd-4046-f44d-1ec7c0214b16"
      },
      "outputs": [
        {
          "data": {
            "text/plain": [
              "((327966, 2), 327966)"
            ]
          },
          "execution_count": 81,
          "metadata": {},
          "output_type": "execute_result"
        }
      ],
      "source": [
        "df[['asin','clothing_type']].drop_duplicates().shape,df.asin.nunique()"
      ]
    },
    {
      "cell_type": "code",
      "execution_count": null,
      "metadata": {
        "id": "f7bmBCEb_aw7",
        "outputId": "40a5917f-d084-4531-91e2-4eeb38fedc7d"
      },
      "outputs": [
        {
          "data": {
            "text/plain": [
              "((29551, 21), 202794)"
            ]
          },
          "execution_count": 112,
          "metadata": {},
          "output_type": "execute_result"
        }
      ],
      "source": [
        "exploded_df = df.explode('also_buy')\n",
        "exploded_df[exploded_df.also_buy.isin(dresses.asin.unique())].shape,dresses.asin.nunique()"
      ]
    },
    {
      "cell_type": "markdown",
      "metadata": {
        "id": "fSPFqO4n_aw7"
      },
      "source": [
        "### checking what are the top pairs bought together"
      ]
    },
    {
      "cell_type": "code",
      "execution_count": null,
      "metadata": {
        "id": "pOhCx6Vx_aw7"
      },
      "outputs": [],
      "source": [
        "bought_together = df.explode('also_buy')\n",
        "## removing products that does not have also bought\n",
        "bought_together = bought_together[~bought_together.also_buy.isna()]\n",
        "bought_together = bought_together[['asin','also_buy']].drop_duplicates()"
      ]
    },
    {
      "cell_type": "code",
      "execution_count": null,
      "metadata": {
        "id": "Vrj3AJfI_aw8"
      },
      "outputs": [],
      "source": [
        "clothing_type = df[['asin','clothing_type']].drop_duplicates()"
      ]
    },
    {
      "cell_type": "code",
      "execution_count": null,
      "metadata": {
        "id": "9de1-Le9_aw8"
      },
      "outputs": [],
      "source": [
        "pairs = pd.merge(bought_together,clothing_type,on='asin')"
      ]
    },
    {
      "cell_type": "code",
      "execution_count": null,
      "metadata": {
        "id": "xWA8iTls_aw8"
      },
      "outputs": [],
      "source": [
        "pairs = pairs.rename(columns = {'clothing_type':'clothing_type_asin'})"
      ]
    },
    {
      "cell_type": "code",
      "execution_count": null,
      "metadata": {
        "id": "H6YO0wrQ_aw9"
      },
      "outputs": [],
      "source": [
        "pairs = pd.merge(pairs,clothing_type,left_on='also_buy',right_on='asin',suffixes=('','_y'))"
      ]
    },
    {
      "cell_type": "code",
      "execution_count": null,
      "metadata": {
        "id": "xRMrYQkH_aw9"
      },
      "outputs": [],
      "source": [
        "pairs = pairs.rename(columns = {'clothing_type':'clothing_type_also_buy'}).drop(columns = ['asin_y'])"
      ]
    },
    {
      "cell_type": "code",
      "execution_count": null,
      "metadata": {
        "scrolled": true,
        "id": "XwVJqlJI_aw9",
        "outputId": "9a1a66b8-da59-4020-c259-fab44684345b"
      },
      "outputs": [
        {
          "data": {
            "text/html": [
              "<div>\n",
              "<style scoped>\n",
              "    .dataframe tbody tr th:only-of-type {\n",
              "        vertical-align: middle;\n",
              "    }\n",
              "\n",
              "    .dataframe tbody tr th {\n",
              "        vertical-align: top;\n",
              "    }\n",
              "\n",
              "    .dataframe thead th {\n",
              "        text-align: right;\n",
              "    }\n",
              "</style>\n",
              "<table border=\"1\" class=\"dataframe\">\n",
              "  <thead>\n",
              "    <tr style=\"text-align: right;\">\n",
              "      <th></th>\n",
              "      <th>clothing_type_asin</th>\n",
              "      <th>clothing_type_also_buy</th>\n",
              "      <th>asin</th>\n",
              "    </tr>\n",
              "  </thead>\n",
              "  <tbody>\n",
              "    <tr>\n",
              "      <th>0</th>\n",
              "      <td>Dresses</td>\n",
              "      <td>Dresses</td>\n",
              "      <td>9476</td>\n",
              "    </tr>\n",
              "    <tr>\n",
              "      <th>1</th>\n",
              "      <td>Lingerie, Sleep &amp; Lounge</td>\n",
              "      <td>Lingerie, Sleep &amp; Lounge</td>\n",
              "      <td>6326</td>\n",
              "    </tr>\n",
              "    <tr>\n",
              "      <th>2</th>\n",
              "      <td>Tops, Tees &amp; Blouses</td>\n",
              "      <td>Tops, Tees &amp; Blouses</td>\n",
              "      <td>6110</td>\n",
              "    </tr>\n",
              "    <tr>\n",
              "      <th>3</th>\n",
              "      <td>Swimsuits &amp; Cover Ups</td>\n",
              "      <td>Swimsuits &amp; Cover Ups</td>\n",
              "      <td>2244</td>\n",
              "    </tr>\n",
              "    <tr>\n",
              "      <th>4</th>\n",
              "      <td>Socks &amp; Hosiery</td>\n",
              "      <td>Socks &amp; Hosiery</td>\n",
              "      <td>2139</td>\n",
              "    </tr>\n",
              "    <tr>\n",
              "      <th>5</th>\n",
              "      <td>Active</td>\n",
              "      <td>Active</td>\n",
              "      <td>1426</td>\n",
              "    </tr>\n",
              "    <tr>\n",
              "      <th>6</th>\n",
              "      <td>Skirts</td>\n",
              "      <td>Skirts</td>\n",
              "      <td>1378</td>\n",
              "    </tr>\n",
              "    <tr>\n",
              "      <th>7</th>\n",
              "      <td>Jeans</td>\n",
              "      <td>Jeans</td>\n",
              "      <td>1365</td>\n",
              "    </tr>\n",
              "    <tr>\n",
              "      <th>8</th>\n",
              "      <td>Pants</td>\n",
              "      <td>Pants</td>\n",
              "      <td>1172</td>\n",
              "    </tr>\n",
              "    <tr>\n",
              "      <th>9</th>\n",
              "      <td>Sweaters</td>\n",
              "      <td>Sweaters</td>\n",
              "      <td>957</td>\n",
              "    </tr>\n",
              "    <tr>\n",
              "      <th>10</th>\n",
              "      <td>Dresses</td>\n",
              "      <td>Tops, Tees &amp; Blouses</td>\n",
              "      <td>608</td>\n",
              "    </tr>\n",
              "    <tr>\n",
              "      <th>11</th>\n",
              "      <td>Tops, Tees &amp; Blouses</td>\n",
              "      <td>Dresses</td>\n",
              "      <td>579</td>\n",
              "    </tr>\n",
              "    <tr>\n",
              "      <th>12</th>\n",
              "      <td>Leggings</td>\n",
              "      <td>Leggings</td>\n",
              "      <td>569</td>\n",
              "    </tr>\n",
              "    <tr>\n",
              "      <th>13</th>\n",
              "      <td>Coats, Jackets &amp; Vests</td>\n",
              "      <td>Coats, Jackets &amp; Vests</td>\n",
              "      <td>558</td>\n",
              "    </tr>\n",
              "    <tr>\n",
              "      <th>14</th>\n",
              "      <td>Pants</td>\n",
              "      <td>Tops, Tees &amp; Blouses</td>\n",
              "      <td>535</td>\n",
              "    </tr>\n",
              "    <tr>\n",
              "      <th>15</th>\n",
              "      <td>Sweaters</td>\n",
              "      <td>Tops, Tees &amp; Blouses</td>\n",
              "      <td>468</td>\n",
              "    </tr>\n",
              "    <tr>\n",
              "      <th>16</th>\n",
              "      <td>Tops, Tees &amp; Blouses</td>\n",
              "      <td>Sweaters</td>\n",
              "      <td>466</td>\n",
              "    </tr>\n",
              "    <tr>\n",
              "      <th>17</th>\n",
              "      <td>Active</td>\n",
              "      <td>Tops, Tees &amp; Blouses</td>\n",
              "      <td>425</td>\n",
              "    </tr>\n",
              "    <tr>\n",
              "      <th>18</th>\n",
              "      <td>Tops, Tees &amp; Blouses</td>\n",
              "      <td>Active</td>\n",
              "      <td>422</td>\n",
              "    </tr>\n",
              "    <tr>\n",
              "      <th>19</th>\n",
              "      <td>Tops, Tees &amp; Blouses</td>\n",
              "      <td>Pants</td>\n",
              "      <td>366</td>\n",
              "    </tr>\n",
              "  </tbody>\n",
              "</table>\n",
              "</div>"
            ],
            "text/plain": [
              "          clothing_type_asin    clothing_type_also_buy  asin\n",
              "0                    Dresses                   Dresses  9476\n",
              "1   Lingerie, Sleep & Lounge  Lingerie, Sleep & Lounge  6326\n",
              "2       Tops, Tees & Blouses      Tops, Tees & Blouses  6110\n",
              "3      Swimsuits & Cover Ups     Swimsuits & Cover Ups  2244\n",
              "4            Socks & Hosiery           Socks & Hosiery  2139\n",
              "5                     Active                    Active  1426\n",
              "6                     Skirts                    Skirts  1378\n",
              "7                      Jeans                     Jeans  1365\n",
              "8                      Pants                     Pants  1172\n",
              "9                   Sweaters                  Sweaters   957\n",
              "10                   Dresses      Tops, Tees & Blouses   608\n",
              "11      Tops, Tees & Blouses                   Dresses   579\n",
              "12                  Leggings                  Leggings   569\n",
              "13    Coats, Jackets & Vests    Coats, Jackets & Vests   558\n",
              "14                     Pants      Tops, Tees & Blouses   535\n",
              "15                  Sweaters      Tops, Tees & Blouses   468\n",
              "16      Tops, Tees & Blouses                  Sweaters   466\n",
              "17                    Active      Tops, Tees & Blouses   425\n",
              "18      Tops, Tees & Blouses                    Active   422\n",
              "19      Tops, Tees & Blouses                     Pants   366"
            ]
          },
          "execution_count": 168,
          "metadata": {},
          "output_type": "execute_result"
        }
      ],
      "source": [
        "final_categories = pairs.groupby(['clothing_type_asin','clothing_type_also_buy']).asin.count().sort_values(ascending=False).to_frame().head(50).reset_index().head(20)\n",
        "final_categories"
      ]
    },
    {
      "cell_type": "code",
      "execution_count": null,
      "metadata": {
        "id": "3O1Ugusd_aw9"
      },
      "outputs": [],
      "source": [
        "final_categories = list(set(final_categories.clothing_type_also_buy) | set(final_categories.clothing_type_asin))"
      ]
    },
    {
      "cell_type": "code",
      "execution_count": null,
      "metadata": {
        "id": "GnlPvLYQ_aw9",
        "outputId": "98167640-7704-46a4-8977-929e456eb297"
      },
      "outputs": [
        {
          "data": {
            "text/plain": [
              "['Tops, Tees & Blouses',\n",
              " 'Swimsuits & Cover Ups',\n",
              " 'Dresses',\n",
              " 'Skirts',\n",
              " 'Leggings',\n",
              " 'Socks & Hosiery',\n",
              " 'Jeans',\n",
              " 'Lingerie, Sleep & Lounge',\n",
              " 'Sweaters',\n",
              " 'Active',\n",
              " 'Coats, Jackets & Vests',\n",
              " 'Pants']"
            ]
          },
          "execution_count": 170,
          "metadata": {},
          "output_type": "execute_result"
        }
      ],
      "source": [
        "final_categories"
      ]
    },
    {
      "cell_type": "code",
      "execution_count": null,
      "metadata": {
        "id": "8wNnBqKh_aw9"
      },
      "outputs": [],
      "source": [
        "filtered_categories_df = df[df.clothing_type.isin(final_categories)]"
      ]
    },
    {
      "cell_type": "code",
      "execution_count": null,
      "metadata": {
        "id": "AmaNDRFk_aw9",
        "outputId": "f59d6c1b-360b-4650-f21c-b0053a1d233d"
      },
      "outputs": [
        {
          "data": {
            "text/plain": [
              "clothing_type\n",
              "Dresses                     80090\n",
              "Tops, Tees & Blouses        62257\n",
              "Swimsuits & Cover Ups       30053\n",
              "Lingerie, Sleep & Lounge    25258\n",
              "Coats, Jackets & Vests      19984\n",
              "Active                      17275\n",
              "Sweaters                    16667\n",
              "Jeans                       13376\n",
              "Skirts                      10436\n",
              "Pants                       10028\n",
              "Socks & Hosiery              8393\n",
              "Leggings                     7430\n",
              "Name: count, dtype: int64"
            ]
          },
          "execution_count": 191,
          "metadata": {},
          "output_type": "execute_result"
        }
      ],
      "source": [
        "filtered_categories_df.clothing_type.value_counts()"
      ]
    },
    {
      "cell_type": "code",
      "execution_count": null,
      "metadata": {
        "id": "KqyXeEcq_aw9"
      },
      "outputs": [],
      "source": [
        "bought_together = filtered_categories_df.explode('also_buy')\n",
        "## removing products that does not have also bought\n",
        "bought_together = bought_together[~bought_together.also_buy.isna()]\n",
        "bought_together = bought_together[bought_together.also_buy.isin(filtered_categories_df.asin.unique())]\n",
        "bought_together = bought_together[['asin','also_buy']].drop_duplicates()"
      ]
    },
    {
      "cell_type": "code",
      "execution_count": null,
      "metadata": {
        "id": "CvDplpDF_aw-",
        "outputId": "024f7583-1c68-40d1-9f30-e10b4d111c77"
      },
      "outputs": [
        {
          "data": {
            "text/plain": [
              "((47538, 2), 301039)"
            ]
          },
          "execution_count": 189,
          "metadata": {},
          "output_type": "execute_result"
        }
      ],
      "source": [
        "bought_together.shape,filtered_categories_df.asin.nunique()"
      ]
    },
    {
      "cell_type": "code",
      "execution_count": null,
      "metadata": {
        "id": "1eImf3s0_aw-"
      },
      "outputs": [],
      "source": [
        "filtered_categories_df.to_parquet('../processed/final_filtered_meta_Clothing_Shoes_and_Jewelry_2018_women_clothing_only.parquet')"
      ]
    },
    {
      "cell_type": "code",
      "execution_count": null,
      "metadata": {
        "id": "BeMyvow8_aw-"
      },
      "outputs": [],
      "source": []
    },
    {
      "cell_type": "markdown",
      "metadata": {
        "id": "Bt7tMxJI_aw-"
      },
      "source": [
        "## EDA on Men"
      ]
    },
    {
      "cell_type": "code",
      "execution_count": null,
      "metadata": {
        "id": "A9jgKGdd_aw-"
      },
      "outputs": [],
      "source": [
        "men_df = df[(df.category.str[1]=='Men')]"
      ]
    },
    {
      "cell_type": "code",
      "execution_count": null,
      "metadata": {
        "id": "UtcjwZ2c_aw-",
        "outputId": "ce039c2e-e500-4b26-8f23-1e7b614f4926"
      },
      "outputs": [
        {
          "ename": "NameError",
          "evalue": "name 'sns' is not defined",
          "output_type": "error",
          "traceback": [
            "\u001b[1;31m---------------------------------------------------------------------------\u001b[0m",
            "\u001b[1;31mNameError\u001b[0m                                 Traceback (most recent call last)",
            "Cell \u001b[1;32mIn[8], line 3\u001b[0m\n\u001b[0;32m      1\u001b[0m temp \u001b[38;5;241m=\u001b[39m men_df\u001b[38;5;241m.\u001b[39mcategory\u001b[38;5;241m.\u001b[39mstr[\u001b[38;5;241m3\u001b[39m]\u001b[38;5;241m.\u001b[39mvalue_counts()\u001b[38;5;241m.\u001b[39msort_values(ascending\u001b[38;5;241m=\u001b[39m\u001b[38;5;28;01mFalse\u001b[39;00m)\u001b[38;5;241m.\u001b[39mhead(\u001b[38;5;241m20\u001b[39m)\u001b[38;5;241m.\u001b[39mto_frame()\u001b[38;5;241m.\u001b[39mreset_index()\n\u001b[1;32m----> 3\u001b[0m \u001b[43msns\u001b[49m\u001b[38;5;241m.\u001b[39mbarplot(x\u001b[38;5;241m=\u001b[39mtemp[\u001b[38;5;124m'\u001b[39m\u001b[38;5;124mcategory\u001b[39m\u001b[38;5;124m'\u001b[39m],y\u001b[38;5;241m=\u001b[39mtemp[\u001b[38;5;124m'\u001b[39m\u001b[38;5;124mcount\u001b[39m\u001b[38;5;124m'\u001b[39m])\n\u001b[0;32m      4\u001b[0m plt\u001b[38;5;241m.\u001b[39mxticks(rotation\u001b[38;5;241m=\u001b[39m\u001b[38;5;241m90\u001b[39m)\n\u001b[0;32m      5\u001b[0m plt\u001b[38;5;241m.\u001b[39mshow()\n",
            "\u001b[1;31mNameError\u001b[0m: name 'sns' is not defined"
          ]
        }
      ],
      "source": [
        "temp = men_df.category.str[3].value_counts().sort_values(ascending=False).head(20).to_frame().reset_index()\n",
        "\n",
        "sns.barplot(x=temp['category'],y=temp['count'])\n",
        "plt.xticks(rotation=90)\n",
        "plt.show()"
      ]
    },
    {
      "cell_type": "code",
      "execution_count": null,
      "metadata": {
        "id": "qIfdW-Vv_aw-",
        "outputId": "4d0fc3df-0524-45f0-d056-ebc565864391"
      },
      "outputs": [
        {
          "name": "stderr",
          "output_type": "stream",
          "text": [
            "C:\\Users\\Acer\\AppData\\Local\\Temp\\ipykernel_12628\\513165044.py:1: SettingWithCopyWarning: \n",
            "A value is trying to be set on a copy of a slice from a DataFrame.\n",
            "Try using .loc[row_indexer,col_indexer] = value instead\n",
            "\n",
            "See the caveats in the documentation: https://pandas.pydata.org/pandas-docs/stable/user_guide/indexing.html#returning-a-view-versus-a-copy\n",
            "  men_df['clothing_type'] = men_df.category.str[3]\n"
          ]
        }
      ],
      "source": [
        "men_df['clothing_type'] = men_df.category.str[3]"
      ]
    },
    {
      "cell_type": "code",
      "execution_count": null,
      "metadata": {
        "id": "saQkPQRV_aw_"
      },
      "outputs": [],
      "source": []
    },
    {
      "cell_type": "markdown",
      "metadata": {
        "id": "dLNNPfNl_aw_"
      },
      "source": [
        "### checking what are the top pairs bought together"
      ]
    },
    {
      "cell_type": "code",
      "execution_count": null,
      "metadata": {
        "id": "27efeAQ9_aw_"
      },
      "outputs": [],
      "source": [
        "bought_together = men_df.explode('also_buy')\n",
        "## removing products that does not have also bought\n",
        "bought_together = bought_together[~bought_together.also_buy.isna()]\n",
        "bought_together = bought_together[['asin','also_buy']].drop_duplicates()"
      ]
    },
    {
      "cell_type": "code",
      "execution_count": null,
      "metadata": {
        "id": "OqKcaq0K_aw_"
      },
      "outputs": [],
      "source": [
        "clothing_type = men_df[['asin','clothing_type']].drop_duplicates()"
      ]
    },
    {
      "cell_type": "code",
      "execution_count": null,
      "metadata": {
        "id": "bewyW7sm_aw_"
      },
      "outputs": [],
      "source": [
        "pairs = pd.merge(bought_together,clothing_type,on='asin')"
      ]
    },
    {
      "cell_type": "code",
      "execution_count": null,
      "metadata": {
        "id": "F35NUbHr_aw_"
      },
      "outputs": [],
      "source": [
        "pairs = pairs.rename(columns = {'clothing_type':'clothing_type_asin'})"
      ]
    },
    {
      "cell_type": "code",
      "execution_count": null,
      "metadata": {
        "id": "5mFdRBuI_aw_"
      },
      "outputs": [],
      "source": [
        "pairs = pd.merge(pairs,clothing_type,left_on='also_buy',right_on='asin',suffixes=('','_y'))"
      ]
    },
    {
      "cell_type": "code",
      "execution_count": null,
      "metadata": {
        "id": "tOw4YAtT_axA"
      },
      "outputs": [],
      "source": [
        "pairs = pairs.rename(columns = {'clothing_type':'clothing_type_also_buy'}).drop(columns = ['asin_y'])"
      ]
    },
    {
      "cell_type": "code",
      "execution_count": null,
      "metadata": {
        "id": "ub7IJ-ID_axA",
        "outputId": "7cddb67d-2daa-4545-cc92-3d77e069bc47"
      },
      "outputs": [
        {
          "data": {
            "text/html": [
              "<div>\n",
              "<style scoped>\n",
              "    .dataframe tbody tr th:only-of-type {\n",
              "        vertical-align: middle;\n",
              "    }\n",
              "\n",
              "    .dataframe tbody tr th {\n",
              "        vertical-align: top;\n",
              "    }\n",
              "\n",
              "    .dataframe thead th {\n",
              "        text-align: right;\n",
              "    }\n",
              "</style>\n",
              "<table border=\"1\" class=\"dataframe\">\n",
              "  <thead>\n",
              "    <tr style=\"text-align: right;\">\n",
              "      <th></th>\n",
              "      <th>clothing_type_asin</th>\n",
              "      <th>clothing_type_also_buy</th>\n",
              "      <th>asin</th>\n",
              "    </tr>\n",
              "  </thead>\n",
              "  <tbody>\n",
              "    <tr>\n",
              "      <th>0</th>\n",
              "      <td>Shirts</td>\n",
              "      <td>Shirts</td>\n",
              "      <td>4187</td>\n",
              "    </tr>\n",
              "    <tr>\n",
              "      <th>1</th>\n",
              "      <td>Underwear</td>\n",
              "      <td>Underwear</td>\n",
              "      <td>2546</td>\n",
              "    </tr>\n",
              "    <tr>\n",
              "      <th>2</th>\n",
              "      <td>Active</td>\n",
              "      <td>Active</td>\n",
              "      <td>2504</td>\n",
              "    </tr>\n",
              "    <tr>\n",
              "      <th>3</th>\n",
              "      <td>Jackets &amp; Coats</td>\n",
              "      <td>Jackets &amp; Coats</td>\n",
              "      <td>1855</td>\n",
              "    </tr>\n",
              "    <tr>\n",
              "      <th>4</th>\n",
              "      <td>Pants</td>\n",
              "      <td>Pants</td>\n",
              "      <td>1200</td>\n",
              "    </tr>\n",
              "    <tr>\n",
              "      <th>5</th>\n",
              "      <td>Jeans</td>\n",
              "      <td>Jeans</td>\n",
              "      <td>931</td>\n",
              "    </tr>\n",
              "    <tr>\n",
              "      <th>6</th>\n",
              "      <td>Shirts</td>\n",
              "      <td>Pants</td>\n",
              "      <td>714</td>\n",
              "    </tr>\n",
              "    <tr>\n",
              "      <th>7</th>\n",
              "      <td>Shirts</td>\n",
              "      <td>Active</td>\n",
              "      <td>619</td>\n",
              "    </tr>\n",
              "    <tr>\n",
              "      <th>8</th>\n",
              "      <td>Shorts</td>\n",
              "      <td>Shorts</td>\n",
              "      <td>611</td>\n",
              "    </tr>\n",
              "    <tr>\n",
              "      <th>9</th>\n",
              "      <td>Socks</td>\n",
              "      <td>Socks</td>\n",
              "      <td>610</td>\n",
              "    </tr>\n",
              "    <tr>\n",
              "      <th>10</th>\n",
              "      <td>Shirts</td>\n",
              "      <td>Jeans</td>\n",
              "      <td>530</td>\n",
              "    </tr>\n",
              "    <tr>\n",
              "      <th>11</th>\n",
              "      <td>Active</td>\n",
              "      <td>Shirts</td>\n",
              "      <td>502</td>\n",
              "    </tr>\n",
              "    <tr>\n",
              "      <th>12</th>\n",
              "      <td>Sleep &amp; Lounge</td>\n",
              "      <td>Sleep &amp; Lounge</td>\n",
              "      <td>458</td>\n",
              "    </tr>\n",
              "    <tr>\n",
              "      <th>13</th>\n",
              "      <td>Jeans</td>\n",
              "      <td>Pants</td>\n",
              "      <td>453</td>\n",
              "    </tr>\n",
              "    <tr>\n",
              "      <th>14</th>\n",
              "      <td>Swim</td>\n",
              "      <td>Swim</td>\n",
              "      <td>389</td>\n",
              "    </tr>\n",
              "    <tr>\n",
              "      <th>15</th>\n",
              "      <td>Active</td>\n",
              "      <td>Jackets &amp; Coats</td>\n",
              "      <td>346</td>\n",
              "    </tr>\n",
              "    <tr>\n",
              "      <th>16</th>\n",
              "      <td>Active</td>\n",
              "      <td>Underwear</td>\n",
              "      <td>331</td>\n",
              "    </tr>\n",
              "    <tr>\n",
              "      <th>17</th>\n",
              "      <td>Shirts</td>\n",
              "      <td>Jackets &amp; Coats</td>\n",
              "      <td>322</td>\n",
              "    </tr>\n",
              "    <tr>\n",
              "      <th>18</th>\n",
              "      <td>Underwear</td>\n",
              "      <td>Active</td>\n",
              "      <td>306</td>\n",
              "    </tr>\n",
              "    <tr>\n",
              "      <th>19</th>\n",
              "      <td>Pants</td>\n",
              "      <td>Shirts</td>\n",
              "      <td>286</td>\n",
              "    </tr>\n",
              "  </tbody>\n",
              "</table>\n",
              "</div>"
            ],
            "text/plain": [
              "   clothing_type_asin clothing_type_also_buy  asin\n",
              "0              Shirts                 Shirts  4187\n",
              "1           Underwear              Underwear  2546\n",
              "2              Active                 Active  2504\n",
              "3     Jackets & Coats        Jackets & Coats  1855\n",
              "4               Pants                  Pants  1200\n",
              "5               Jeans                  Jeans   931\n",
              "6              Shirts                  Pants   714\n",
              "7              Shirts                 Active   619\n",
              "8              Shorts                 Shorts   611\n",
              "9               Socks                  Socks   610\n",
              "10             Shirts                  Jeans   530\n",
              "11             Active                 Shirts   502\n",
              "12     Sleep & Lounge         Sleep & Lounge   458\n",
              "13              Jeans                  Pants   453\n",
              "14               Swim                   Swim   389\n",
              "15             Active        Jackets & Coats   346\n",
              "16             Active              Underwear   331\n",
              "17             Shirts        Jackets & Coats   322\n",
              "18          Underwear                 Active   306\n",
              "19              Pants                 Shirts   286"
            ]
          },
          "execution_count": 16,
          "metadata": {},
          "output_type": "execute_result"
        }
      ],
      "source": [
        "final_categories = pairs.groupby(['clothing_type_asin','clothing_type_also_buy']).asin.count().sort_values(ascending=False).to_frame().head(50).reset_index().head(20)\n",
        "final_categories"
      ]
    },
    {
      "cell_type": "code",
      "execution_count": null,
      "metadata": {
        "id": "A2VKcE0t_axA"
      },
      "outputs": [],
      "source": [
        "final_categories = list(set(final_categories.clothing_type_also_buy) | set(final_categories.clothing_type_asin))"
      ]
    },
    {
      "cell_type": "code",
      "execution_count": null,
      "metadata": {
        "id": "ytw6MNe7_axA",
        "outputId": "345dbd11-8381-4faf-f1dd-01afded78421"
      },
      "outputs": [
        {
          "data": {
            "text/plain": [
              "['Jeans',\n",
              " 'Active',\n",
              " 'Sleep & Lounge',\n",
              " 'Underwear',\n",
              " 'Jackets & Coats',\n",
              " 'Shorts',\n",
              " 'Swim',\n",
              " 'Pants',\n",
              " 'Socks',\n",
              " 'Shirts']"
            ]
          },
          "execution_count": 18,
          "metadata": {},
          "output_type": "execute_result"
        }
      ],
      "source": [
        "final_categories"
      ]
    },
    {
      "cell_type": "code",
      "execution_count": null,
      "metadata": {
        "id": "NfrnSpFl_axA"
      },
      "outputs": [],
      "source": []
    },
    {
      "cell_type": "code",
      "execution_count": null,
      "metadata": {
        "id": "fvwFVWoo_axB"
      },
      "outputs": [],
      "source": [
        "filtered_categories_df = men_df[men_df.clothing_type.isin(final_categories)]"
      ]
    },
    {
      "cell_type": "code",
      "execution_count": null,
      "metadata": {
        "id": "IsiPC9qv_axB",
        "outputId": "557d366b-68af-4ede-d93d-593f6a137e9e"
      },
      "outputs": [
        {
          "data": {
            "text/plain": [
              "clothing_type\n",
              "Shirts             36052\n",
              "Active             18885\n",
              "Jackets & Coats    14528\n",
              "Underwear          10307\n",
              "Jeans               5281\n",
              "Pants               5133\n",
              "Sleep & Lounge      4675\n",
              "Socks               4167\n",
              "Swim                3981\n",
              "Shorts              3622\n",
              "Name: count, dtype: int64"
            ]
          },
          "execution_count": 20,
          "metadata": {},
          "output_type": "execute_result"
        }
      ],
      "source": [
        "filtered_categories_df.clothing_type.value_counts()"
      ]
    },
    {
      "cell_type": "code",
      "execution_count": null,
      "metadata": {
        "id": "QK2bZFU3_axB"
      },
      "outputs": [],
      "source": [
        "bought_together = filtered_categories_df.explode('also_buy')\n",
        "## removing products that does not have also bought\n",
        "bought_together = bought_together[~bought_together.also_buy.isna()]\n",
        "bought_together = bought_together[bought_together.also_buy.isin(filtered_categories_df.asin.unique())]\n",
        "bought_together = bought_together[['asin','also_buy']].drop_duplicates()"
      ]
    },
    {
      "cell_type": "code",
      "execution_count": null,
      "metadata": {
        "id": "nhhLKeKo_axB",
        "outputId": "25e33e7f-dc8e-45a3-c3b2-a2e6be6c1a4e"
      },
      "outputs": [
        {
          "data": {
            "text/plain": [
              "((26471, 2), 120910)"
            ]
          },
          "execution_count": 29,
          "metadata": {},
          "output_type": "execute_result"
        }
      ],
      "source": [
        "bought_together.shape,men_df.asin.nunique()"
      ]
    },
    {
      "cell_type": "code",
      "execution_count": null,
      "metadata": {
        "id": "z8jqClhA_axB",
        "outputId": "9bb9a4d7-b9c4-48a4-8623-244a2a4ae60a"
      },
      "outputs": [
        {
          "data": {
            "text/plain": [
              "1523"
            ]
          },
          "execution_count": 30,
          "metadata": {},
          "output_type": "execute_result"
        }
      ],
      "source": []
    },
    {
      "cell_type": "code",
      "execution_count": null,
      "metadata": {
        "id": "vBQAnVxN_axB"
      },
      "outputs": [],
      "source": [
        "filtered_categories_df.to_parquet('../processed/final_filtered_meta_Clothing_Shoes_and_Jewelry_2018_men_clothing_only.parquet')"
      ]
    },
    {
      "cell_type": "code",
      "execution_count": null,
      "metadata": {
        "id": "bw2KMFuu_axC"
      },
      "outputs": [],
      "source": [
        "import os"
      ]
    },
    {
      "cell_type": "code",
      "execution_count": null,
      "metadata": {
        "id": "eLX2oPgN_axC"
      },
      "outputs": [],
      "source": []
    },
    {
      "cell_type": "code",
      "execution_count": null,
      "metadata": {
        "id": "aHqN84VB_axC",
        "outputId": "0e432bd2-79be-4f2a-a1e4-eacec1b52d8d"
      },
      "outputs": [
        {
          "ename": "NameError",
          "evalue": "name 'filtered_categories_df' is not defined",
          "output_type": "error",
          "traceback": [
            "\u001b[1;31m---------------------------------------------------------------------------\u001b[0m",
            "\u001b[1;31mNameError\u001b[0m                                 Traceback (most recent call last)",
            "Cell \u001b[1;32mIn[4], line 1\u001b[0m\n\u001b[1;32m----> 1\u001b[0m bought_together \u001b[38;5;241m=\u001b[39m \u001b[43mfiltered_categories_df\u001b[49m[filtered_categories_df\u001b[38;5;241m.\u001b[39masin\u001b[38;5;241m.\u001b[39misin(ids_done)]\u001b[38;5;241m.\u001b[39mexplode(\u001b[38;5;124m'\u001b[39m\u001b[38;5;124malso_buy\u001b[39m\u001b[38;5;124m'\u001b[39m)\n\u001b[0;32m      2\u001b[0m \u001b[38;5;66;03m## removing products that does not have also bought\u001b[39;00m\n\u001b[0;32m      3\u001b[0m bought_together \u001b[38;5;241m=\u001b[39m bought_together[\u001b[38;5;241m~\u001b[39mbought_together\u001b[38;5;241m.\u001b[39malso_buy\u001b[38;5;241m.\u001b[39misna()]\n",
            "\u001b[1;31mNameError\u001b[0m: name 'filtered_categories_df' is not defined"
          ]
        }
      ],
      "source": []
    },
    {
      "cell_type": "markdown",
      "metadata": {
        "id": "XtJ78XjB_axC"
      },
      "source": [
        "## Image Download"
      ]
    },
    {
      "cell_type": "code",
      "execution_count": null,
      "metadata": {
        "id": "pjdD1uDv_axC"
      },
      "outputs": [],
      "source": [
        "import pandas as pd\n",
        "import numpy as np\n",
        "import urllib.request\n",
        "from tqdm import tqdm\n",
        "import requests\n",
        "import os"
      ]
    },
    {
      "cell_type": "code",
      "execution_count": null,
      "metadata": {
        "id": "V5bmfX56_axC"
      },
      "outputs": [],
      "source": [
        "img_list = filtered_categories_df.drop_duplicates('asin').set_index('asin').imageURLHighRes.to_dict()"
      ]
    },
    {
      "cell_type": "code",
      "execution_count": null,
      "metadata": {
        "scrolled": true,
        "id": "gjgwFCgE_axD",
        "outputId": "62f3180c-e9ef-4753-f891-cacdf035d0f8"
      },
      "outputs": [
        {
          "data": {
            "text/plain": [
              "imageURLHighRes\n",
              "1     114938\n",
              "2      65669\n",
              "3      35515\n",
              "4      23173\n",
              "6      19924\n",
              "5      16164\n",
              "7       4316\n",
              "8       3123\n",
              "9       2501\n",
              "10      2208\n",
              "11      1741\n",
              "12      1416\n",
              "13      1249\n",
              "14       984\n",
              "15       819\n",
              "16       794\n",
              "19       601\n",
              "17       583\n",
              "18       565\n",
              "21       517\n",
              "20       464\n",
              "22       441\n",
              "23       391\n",
              "24       356\n",
              "27       255\n",
              "25       249\n",
              "26       234\n",
              "36       187\n",
              "28       172\n",
              "29       143\n",
              "31       131\n",
              "32       125\n",
              "40       124\n",
              "30       122\n",
              "34       114\n",
              "39       110\n",
              "33       108\n",
              "38        94\n",
              "41        90\n",
              "35        90\n",
              "37        83\n",
              "43        80\n",
              "42        60\n",
              "44        47\n",
              "47        46\n",
              "46        45\n",
              "45        39\n",
              "48        18\n",
              "49        18\n",
              "50        11\n",
              "Name: count, dtype: int64"
            ]
          },
          "execution_count": 198,
          "metadata": {},
          "output_type": "execute_result"
        }
      ],
      "source": [
        "filtered_categories_df.imageURLHighRes.str.len().value_counts()"
      ]
    },
    {
      "cell_type": "code",
      "execution_count": null,
      "metadata": {
        "id": "c5a_ermb_axD"
      },
      "outputs": [],
      "source": [
        "from selenium import webdriver\n",
        "from selenium.webdriver.common.by import By\n",
        "from selenium import webdriver\n",
        "from selenium.webdriver.common.by import By\n",
        "from selenium.webdriver.support.wait import WebDriverWait\n",
        "from selenium.webdriver.support import expected_conditions as EC"
      ]
    },
    {
      "cell_type": "code",
      "execution_count": null,
      "metadata": {
        "id": "3J2OoB7F_axD"
      },
      "outputs": [],
      "source": [
        "def save_img_sel(driver,url,name,loc):\n",
        "    #launch URL\n",
        "    driver.get('data:,')\n",
        "    driver.get(url)\n",
        "    element = WebDriverWait(driver, 1).until(\n",
        "            EC.presence_of_element_located((By.TAG_NAME, \"img\"))\n",
        "        )\n",
        "    #open file in write and binary mode\n",
        "    os.makedirs(os.path.dirname(loc), exist_ok=True)\n",
        "    with open(f\"{loc}/{name}.jpg\", 'wb') as file:\n",
        "        #identify image to be captured\n",
        "        l = driver.find_element(By.TAG_NAME, \"img\")\n",
        "        #write file\n",
        "        file.write(l.screenshot_as_png)\n",
        "        #close browserda"
      ]
    },
    {
      "cell_type": "code",
      "execution_count": null,
      "metadata": {
        "id": "tiWNNtei_axD"
      },
      "outputs": [],
      "source": [
        "driver = webdriver.Chrome()\n",
        "failed_list = {}\n",
        "driver.implicitly_wait(0.5)\n",
        "for i in tqdm(img_list):\n",
        "    path = f'./processed/images/{i}'\n",
        "    if not os.path.exists(path):\n",
        "        os.makedirs(path)\n",
        "    for ind,val in enumerate(remaining_ids[i]):\n",
        "        success_count = 0\n",
        "        try:\n",
        "            save_img_sel(driver, str(val),ind+1,path)\n",
        "            ## only download 2 image\n",
        "            success_count+=1\n",
        "            if(success_count==2):\n",
        "                continue\n",
        "        except Exception as e:\n",
        "            # print(\"Error:\", e,path,val)\n",
        "            if i in failed_list:\n",
        "                failed_list[i].append(val)\n",
        "            else:\n",
        "                failed_list[i] = [val]"
      ]
    }
  ],
  "metadata": {
    "kernelspec": {
      "display_name": "Python 3 (ipykernel)",
      "language": "python",
      "name": "python3"
    },
    "language_info": {
      "codemirror_mode": {
        "name": "ipython",
        "version": 3
      },
      "file_extension": ".py",
      "mimetype": "text/x-python",
      "name": "python",
      "nbconvert_exporter": "python",
      "pygments_lexer": "ipython3",
      "version": "3.9.19"
    },
    "colab": {
      "provenance": [],
      "include_colab_link": true
    }
  },
  "nbformat": 4,
  "nbformat_minor": 0
}